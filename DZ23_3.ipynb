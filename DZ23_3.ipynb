{
 "cells": [
  {
   "cell_type": "code",
   "execution_count": 1,
   "id": "44f6ffa1",
   "metadata": {},
   "outputs": [
    {
     "name": "stdout",
     "output_type": "stream",
     "text": [
      "The probability that a product of higher quality is taken at random from the conveyor 0.6799999999999999\n"
     ]
    }
   ],
   "source": [
    "p_sum_AB = 2/3 * 0.6 + 1/3 * 0.84\n",
    "print(f\"The probability that a product of higher quality is taken at random from the conveyor {p_sum_AB}\")"
   ]
  },
  {
   "cell_type": "code",
   "execution_count": 2,
   "id": "d82c6d11",
   "metadata": {},
   "outputs": [
    {
     "name": "stdout",
     "output_type": "stream",
     "text": [
      "The probability that a product of higher quality and from first machine 58.82352941176471\n"
     ]
    }
   ],
   "source": [
    "p_A = (2/3 * 0.6) / p_sum_AB * 100\n",
    "print(f\"The probability that a product of higher quality and from first machine {p_A}\") "
   ]
  },
  {
   "cell_type": "code",
   "execution_count": null,
   "id": "4e98c0a2",
   "metadata": {},
   "outputs": [],
   "source": []
  }
 ],
 "metadata": {
  "kernelspec": {
   "display_name": "Python 3 (ipykernel)",
   "language": "python",
   "name": "python3"
  },
  "language_info": {
   "codemirror_mode": {
    "name": "ipython",
    "version": 3
   },
   "file_extension": ".py",
   "mimetype": "text/x-python",
   "name": "python",
   "nbconvert_exporter": "python",
   "pygments_lexer": "ipython3",
   "version": "3.9.13"
  }
 },
 "nbformat": 4,
 "nbformat_minor": 5
}
