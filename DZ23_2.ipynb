{
 "cells": [
  {
   "cell_type": "code",
   "execution_count": 1,
   "id": "4ad463f3",
   "metadata": {},
   "outputs": [
    {
     "name": "stdout",
     "output_type": "stream",
     "text": [
      "At least one will working P(A+B) = 99.50000000000001 %\n"
     ]
    }
   ],
   "source": [
    "p_A_B = (0.95 + 0.9 - 0.95*0.9) * 100\n",
    "print(f\"At least one will working P(A+B) = {p_A_B} %\")"
   ]
  },
  {
   "cell_type": "code",
   "execution_count": 2,
   "id": "c49fe5fd",
   "metadata": {},
   "outputs": [
    {
     "name": "stdout",
     "output_type": "stream",
     "text": [
      "A △ B = 14.000000000000012 %\n"
     ]
    }
   ],
   "source": [
    "p_only_one = (p_A_B/100 - 0.95*0.9)*100\n",
    "print(f\"A △ B = {p_only_one} %\")"
   ]
  },
  {
   "cell_type": "code",
   "execution_count": null,
   "id": "0035f5c4",
   "metadata": {},
   "outputs": [],
   "source": []
  }
 ],
 "metadata": {
  "kernelspec": {
   "display_name": "Python 3 (ipykernel)",
   "language": "python",
   "name": "python3"
  },
  "language_info": {
   "codemirror_mode": {
    "name": "ipython",
    "version": 3
   },
   "file_extension": ".py",
   "mimetype": "text/x-python",
   "name": "python",
   "nbconvert_exporter": "python",
   "pygments_lexer": "ipython3",
   "version": "3.9.13"
  }
 },
 "nbformat": 4,
 "nbformat_minor": 5
}
