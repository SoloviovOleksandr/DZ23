{
 "cells": [
  {
   "cell_type": "code",
   "execution_count": 1,
   "id": "8a4adab9",
   "metadata": {},
   "outputs": [
    {
     "name": "stdout",
     "output_type": "stream",
     "text": [
      "Probability of turning on 2 worked elements 62.85714285714285 %\n"
     ]
    }
   ],
   "source": [
    "p_B = 3/7 * 4/6 * 3/5 * 100\n",
    "p_D = 4/7 * 3/6 * 2/5 * 100\n",
    "p_F = 4/7 * 3/6 * 3/5 * 100\n",
    "p_K = 4/7 * 3/6 * 3/5 * 100\n",
    "p = p_B + p_D + p_F + p_K\n",
    "print(f\"Probability of turning on 2 worked elements {p} %\")"
   ]
  },
  {
   "cell_type": "code",
   "execution_count": null,
   "id": "1adc5d45",
   "metadata": {},
   "outputs": [],
   "source": []
  }
 ],
 "metadata": {
  "kernelspec": {
   "display_name": "Python 3 (ipykernel)",
   "language": "python",
   "name": "python3"
  },
  "language_info": {
   "codemirror_mode": {
    "name": "ipython",
    "version": 3
   },
   "file_extension": ".py",
   "mimetype": "text/x-python",
   "name": "python",
   "nbconvert_exporter": "python",
   "pygments_lexer": "ipython3",
   "version": "3.9.13"
  }
 },
 "nbformat": 4,
 "nbformat_minor": 5
}
